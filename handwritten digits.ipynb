{
  "cells": [
    {
      "cell_type": "markdown",
      "metadata": {
        "id": "VRu2UnN1ZvBS"
      },
      "source": [
        "## **Business case:**"
      ]
    },
    {
      "cell_type": "markdown",
      "metadata": {
        "id": "gOkuGt3gZvBT"
      },
      "source": [
        "_Building a model to categorize image of a handwritten digit into one of the 10 classes representing integer values from 0 to 9_."
      ]
    },
    {
      "cell_type": "markdown",
      "metadata": {
        "id": "X8oIrsBNZvBT"
      },
      "source": [
        "## *Importing Libraries*"
      ]
    },
    {
      "cell_type": "code",
      "execution_count": 5,
      "metadata": {
        "id": "4O4bbAsdTKss",
        "colab": {
          "base_uri": "https://localhost:8080/"
        },
        "outputId": "3e0ec551-abea-405c-e995-e59e2d52d7b3"
      },
      "outputs": [
        {
          "output_type": "stream",
          "name": "stdout",
          "text": [
            "Collecting keras.utils\n",
            "  Downloading keras-utils-1.0.13.tar.gz (2.4 kB)\n",
            "  Preparing metadata (setup.py) ... \u001b[?25l\u001b[?25hdone\n",
            "Requirement already satisfied: Keras>=2.1.5 in /usr/local/lib/python3.10/dist-packages (from keras.utils) (2.15.0)\n",
            "Building wheels for collected packages: keras.utils\n",
            "  Building wheel for keras.utils (setup.py) ... \u001b[?25l\u001b[?25hdone\n",
            "  Created wheel for keras.utils: filename=keras_utils-1.0.13-py3-none-any.whl size=2631 sha256=2131bffb795032739a8b2238fa772641b76d84cecdf4245c16c1062a4a21a948\n",
            "  Stored in directory: /root/.cache/pip/wheels/5c/c0/b3/0c332de4fd71f3733ea6d61697464b7ae4b2b5ff0300e6ca7a\n",
            "Successfully built keras.utils\n",
            "Installing collected packages: keras.utils\n",
            "Successfully installed keras.utils-1.0.13\n"
          ]
        }
      ],
      "source": [
        "pip install keras.utils"
      ]
    },
    {
      "cell_type": "code",
      "execution_count": 6,
      "metadata": {
        "id": "FZvZaBhKTQkR",
        "scrolled": true,
        "colab": {
          "base_uri": "https://localhost:8080/"
        },
        "outputId": "f96b3bc4-14cb-48ac-f5d3-a8ff727541c5"
      },
      "outputs": [
        {
          "output_type": "stream",
          "name": "stdout",
          "text": [
            "Collecting np_utils\n",
            "  Downloading np_utils-0.6.0.tar.gz (61 kB)\n",
            "\u001b[?25l     \u001b[90m━━━━━━━━━━━━━━━━━━━━━━━━━━━━━━━━━━━━━━━━\u001b[0m \u001b[32m0.0/62.0 kB\u001b[0m \u001b[31m?\u001b[0m eta \u001b[36m-:--:--\u001b[0m\r\u001b[2K     \u001b[91m━━━━━━━━━━━━━━━━━━━━━━━━━━━━━━━━━━━━━━━\u001b[0m\u001b[91m╸\u001b[0m \u001b[32m61.4/62.0 kB\u001b[0m \u001b[31m1.6 MB/s\u001b[0m eta \u001b[36m0:00:01\u001b[0m\r\u001b[2K     \u001b[90m━━━━━━━━━━━━━━━━━━━━━━━━━━━━━━━━━━━━━━━━\u001b[0m \u001b[32m62.0/62.0 kB\u001b[0m \u001b[31m1.4 MB/s\u001b[0m eta \u001b[36m0:00:00\u001b[0m\n",
            "\u001b[?25h  Preparing metadata (setup.py) ... \u001b[?25l\u001b[?25hdone\n",
            "Requirement already satisfied: numpy>=1.0 in /usr/local/lib/python3.10/dist-packages (from np_utils) (1.25.2)\n",
            "Building wheels for collected packages: np_utils\n",
            "  Building wheel for np_utils (setup.py) ... \u001b[?25l\u001b[?25hdone\n",
            "  Created wheel for np_utils: filename=np_utils-0.6.0-py3-none-any.whl size=56441 sha256=7098db5ace3b6118b08f22415d3c70e9e807fe85d90f83e7e697c913b3687d4f\n",
            "  Stored in directory: /root/.cache/pip/wheels/b6/c7/50/2307607f44366dd021209f660045f8d51cb976514d30be7cc7\n",
            "Successfully built np_utils\n",
            "Installing collected packages: np_utils\n",
            "Successfully installed np_utils-0.6.0\n"
          ]
        }
      ],
      "source": [
        "pip install np_utils"
      ]
    },
    {
      "cell_type": "code",
      "execution_count": 7,
      "metadata": {
        "scrolled": false,
        "id": "qeHkjl31ZvBU",
        "colab": {
          "base_uri": "https://localhost:8080/"
        },
        "outputId": "06db61fc-3d58-45c6-ffd6-b4ded980deeb"
      },
      "outputs": [
        {
          "output_type": "stream",
          "name": "stdout",
          "text": [
            "Requirement already satisfied: tensorflow in /usr/local/lib/python3.10/dist-packages (2.15.0)\n",
            "Requirement already satisfied: absl-py>=1.0.0 in /usr/local/lib/python3.10/dist-packages (from tensorflow) (1.4.0)\n",
            "Requirement already satisfied: astunparse>=1.6.0 in /usr/local/lib/python3.10/dist-packages (from tensorflow) (1.6.3)\n",
            "Requirement already satisfied: flatbuffers>=23.5.26 in /usr/local/lib/python3.10/dist-packages (from tensorflow) (24.3.25)\n",
            "Requirement already satisfied: gast!=0.5.0,!=0.5.1,!=0.5.2,>=0.2.1 in /usr/local/lib/python3.10/dist-packages (from tensorflow) (0.5.4)\n",
            "Requirement already satisfied: google-pasta>=0.1.1 in /usr/local/lib/python3.10/dist-packages (from tensorflow) (0.2.0)\n",
            "Requirement already satisfied: h5py>=2.9.0 in /usr/local/lib/python3.10/dist-packages (from tensorflow) (3.9.0)\n",
            "Requirement already satisfied: libclang>=13.0.0 in /usr/local/lib/python3.10/dist-packages (from tensorflow) (18.1.1)\n",
            "Requirement already satisfied: ml-dtypes~=0.2.0 in /usr/local/lib/python3.10/dist-packages (from tensorflow) (0.2.0)\n",
            "Requirement already satisfied: numpy<2.0.0,>=1.23.5 in /usr/local/lib/python3.10/dist-packages (from tensorflow) (1.25.2)\n",
            "Requirement already satisfied: opt-einsum>=2.3.2 in /usr/local/lib/python3.10/dist-packages (from tensorflow) (3.3.0)\n",
            "Requirement already satisfied: packaging in /usr/local/lib/python3.10/dist-packages (from tensorflow) (24.0)\n",
            "Requirement already satisfied: protobuf!=4.21.0,!=4.21.1,!=4.21.2,!=4.21.3,!=4.21.4,!=4.21.5,<5.0.0dev,>=3.20.3 in /usr/local/lib/python3.10/dist-packages (from tensorflow) (3.20.3)\n",
            "Requirement already satisfied: setuptools in /usr/local/lib/python3.10/dist-packages (from tensorflow) (67.7.2)\n",
            "Requirement already satisfied: six>=1.12.0 in /usr/local/lib/python3.10/dist-packages (from tensorflow) (1.16.0)\n",
            "Requirement already satisfied: termcolor>=1.1.0 in /usr/local/lib/python3.10/dist-packages (from tensorflow) (2.4.0)\n",
            "Requirement already satisfied: typing-extensions>=3.6.6 in /usr/local/lib/python3.10/dist-packages (from tensorflow) (4.11.0)\n",
            "Requirement already satisfied: wrapt<1.15,>=1.11.0 in /usr/local/lib/python3.10/dist-packages (from tensorflow) (1.14.1)\n",
            "Requirement already satisfied: tensorflow-io-gcs-filesystem>=0.23.1 in /usr/local/lib/python3.10/dist-packages (from tensorflow) (0.36.0)\n",
            "Requirement already satisfied: grpcio<2.0,>=1.24.3 in /usr/local/lib/python3.10/dist-packages (from tensorflow) (1.62.2)\n",
            "Requirement already satisfied: tensorboard<2.16,>=2.15 in /usr/local/lib/python3.10/dist-packages (from tensorflow) (2.15.2)\n",
            "Requirement already satisfied: tensorflow-estimator<2.16,>=2.15.0 in /usr/local/lib/python3.10/dist-packages (from tensorflow) (2.15.0)\n",
            "Requirement already satisfied: keras<2.16,>=2.15.0 in /usr/local/lib/python3.10/dist-packages (from tensorflow) (2.15.0)\n",
            "Requirement already satisfied: wheel<1.0,>=0.23.0 in /usr/local/lib/python3.10/dist-packages (from astunparse>=1.6.0->tensorflow) (0.43.0)\n",
            "Requirement already satisfied: google-auth<3,>=1.6.3 in /usr/local/lib/python3.10/dist-packages (from tensorboard<2.16,>=2.15->tensorflow) (2.27.0)\n",
            "Requirement already satisfied: google-auth-oauthlib<2,>=0.5 in /usr/local/lib/python3.10/dist-packages (from tensorboard<2.16,>=2.15->tensorflow) (1.2.0)\n",
            "Requirement already satisfied: markdown>=2.6.8 in /usr/local/lib/python3.10/dist-packages (from tensorboard<2.16,>=2.15->tensorflow) (3.6)\n",
            "Requirement already satisfied: requests<3,>=2.21.0 in /usr/local/lib/python3.10/dist-packages (from tensorboard<2.16,>=2.15->tensorflow) (2.31.0)\n",
            "Requirement already satisfied: tensorboard-data-server<0.8.0,>=0.7.0 in /usr/local/lib/python3.10/dist-packages (from tensorboard<2.16,>=2.15->tensorflow) (0.7.2)\n",
            "Requirement already satisfied: werkzeug>=1.0.1 in /usr/local/lib/python3.10/dist-packages (from tensorboard<2.16,>=2.15->tensorflow) (3.0.2)\n",
            "Requirement already satisfied: cachetools<6.0,>=2.0.0 in /usr/local/lib/python3.10/dist-packages (from google-auth<3,>=1.6.3->tensorboard<2.16,>=2.15->tensorflow) (5.3.3)\n",
            "Requirement already satisfied: pyasn1-modules>=0.2.1 in /usr/local/lib/python3.10/dist-packages (from google-auth<3,>=1.6.3->tensorboard<2.16,>=2.15->tensorflow) (0.4.0)\n",
            "Requirement already satisfied: rsa<5,>=3.1.4 in /usr/local/lib/python3.10/dist-packages (from google-auth<3,>=1.6.3->tensorboard<2.16,>=2.15->tensorflow) (4.9)\n",
            "Requirement already satisfied: requests-oauthlib>=0.7.0 in /usr/local/lib/python3.10/dist-packages (from google-auth-oauthlib<2,>=0.5->tensorboard<2.16,>=2.15->tensorflow) (1.3.1)\n",
            "Requirement already satisfied: charset-normalizer<4,>=2 in /usr/local/lib/python3.10/dist-packages (from requests<3,>=2.21.0->tensorboard<2.16,>=2.15->tensorflow) (3.3.2)\n",
            "Requirement already satisfied: idna<4,>=2.5 in /usr/local/lib/python3.10/dist-packages (from requests<3,>=2.21.0->tensorboard<2.16,>=2.15->tensorflow) (3.7)\n",
            "Requirement already satisfied: urllib3<3,>=1.21.1 in /usr/local/lib/python3.10/dist-packages (from requests<3,>=2.21.0->tensorboard<2.16,>=2.15->tensorflow) (2.0.7)\n",
            "Requirement already satisfied: certifi>=2017.4.17 in /usr/local/lib/python3.10/dist-packages (from requests<3,>=2.21.0->tensorboard<2.16,>=2.15->tensorflow) (2024.2.2)\n",
            "Requirement already satisfied: MarkupSafe>=2.1.1 in /usr/local/lib/python3.10/dist-packages (from werkzeug>=1.0.1->tensorboard<2.16,>=2.15->tensorflow) (2.1.5)\n",
            "Requirement already satisfied: pyasn1<0.7.0,>=0.4.6 in /usr/local/lib/python3.10/dist-packages (from pyasn1-modules>=0.2.1->google-auth<3,>=1.6.3->tensorboard<2.16,>=2.15->tensorflow) (0.6.0)\n",
            "Requirement already satisfied: oauthlib>=3.0.0 in /usr/local/lib/python3.10/dist-packages (from requests-oauthlib>=0.7.0->google-auth-oauthlib<2,>=0.5->tensorboard<2.16,>=2.15->tensorflow) (3.2.2)\n"
          ]
        }
      ],
      "source": [
        "pip install tensorflow\n"
      ]
    },
    {
      "cell_type": "code",
      "execution_count": 8,
      "metadata": {
        "id": "_UE67uMZo2GZ"
      },
      "outputs": [],
      "source": [
        "import pandas as pd\n",
        "import numpy as np\n",
        "import seaborn as sns\n",
        "import matplotlib.pyplot as plt\n",
        "import tensorflow as tf\n",
        "import keras\n",
        "import warnings\n",
        "warnings.filterwarnings('ignore')"
      ]
    },
    {
      "cell_type": "markdown",
      "metadata": {
        "id": "OZ4pSGUAe0Dn"
      },
      "source": [
        "# *Domain Analysis*"
      ]
    },
    {
      "cell_type": "markdown",
      "metadata": {
        "id": "2EHd8BBVZvBU"
      },
      "source": [
        "* _This dataset belongs to the domain of computer vision **image recognition**, specifically focusing on grayscale images  of handwritten digits (0-9)._\n",
        "* _The dataset aims to train the model to identify and categorize digits from a dataset of tens of thousands of handwritten images._\n",
        "* _Size: Large dataset with 70,000 images for training and 10,000 for testing._\n",
        "* _Images are 28x28 pixels, with each pixel value representing the grayscale intensity (0-255)._"
      ]
    },
    {
      "cell_type": "code",
      "execution_count": 35,
      "metadata": {
        "id": "BCStCYhho7e-"
      },
      "outputs": [],
      "source": [
        "from tensorflow.keras.datasets import mnist\n",
        "(x_train, y_train), (x_test, y_test) = mnist.load_data()\n"
      ]
    },
    {
      "cell_type": "code",
      "execution_count": 36,
      "metadata": {
        "colab": {
          "base_uri": "https://localhost:8080/"
        },
        "id": "q2qwi1Shfn_C",
        "outputId": "753ed356-45cf-4504-e11e-61b8ebba9597"
      },
      "outputs": [
        {
          "output_type": "execute_result",
          "data": {
            "text/plain": [
              "(60000, 28, 28)"
            ]
          },
          "metadata": {},
          "execution_count": 36
        }
      ],
      "source": [
        "x_train.shape"
      ]
    },
    {
      "cell_type": "markdown",
      "metadata": {
        "id": "0e5ZFJtFZvBV"
      },
      "source": [
        "**INSIGHTS**\n",
        "\n",
        "* _The dataset is automatically split into training and testing sets. This is crucial for training and evaluating machine learning models._\n",
        "* _x_train.shape-the structure and size of the training data._"
      ]
    },
    {
      "cell_type": "code",
      "execution_count": 37,
      "metadata": {
        "id": "4X2dvs8hfT4g"
      },
      "outputs": [],
      "source": [
        "x_train =tf.expand_dims(x_train, axis=3)\n",
        "x_test=tf.expand_dims(x_test, axis=3)"
      ]
    },
    {
      "cell_type": "code",
      "execution_count": 12,
      "metadata": {
        "colab": {
          "base_uri": "https://localhost:8080/"
        },
        "id": "UtBl73YhrPTb",
        "outputId": "1ddb4dd5-dd59-4337-87a6-9ab2a74c1859"
      },
      "outputs": [
        {
          "output_type": "stream",
          "name": "stdout",
          "text": [
            "Requirement already satisfied: matplotlib in /usr/local/lib/python3.10/dist-packages (3.7.1)\n",
            "Requirement already satisfied: contourpy>=1.0.1 in /usr/local/lib/python3.10/dist-packages (from matplotlib) (1.2.1)\n",
            "Requirement already satisfied: cycler>=0.10 in /usr/local/lib/python3.10/dist-packages (from matplotlib) (0.12.1)\n",
            "Requirement already satisfied: fonttools>=4.22.0 in /usr/local/lib/python3.10/dist-packages (from matplotlib) (4.51.0)\n",
            "Requirement already satisfied: kiwisolver>=1.0.1 in /usr/local/lib/python3.10/dist-packages (from matplotlib) (1.4.5)\n",
            "Requirement already satisfied: numpy>=1.20 in /usr/local/lib/python3.10/dist-packages (from matplotlib) (1.25.2)\n",
            "Requirement already satisfied: packaging>=20.0 in /usr/local/lib/python3.10/dist-packages (from matplotlib) (24.0)\n",
            "Requirement already satisfied: pillow>=6.2.0 in /usr/local/lib/python3.10/dist-packages (from matplotlib) (9.4.0)\n",
            "Requirement already satisfied: pyparsing>=2.3.1 in /usr/local/lib/python3.10/dist-packages (from matplotlib) (3.1.2)\n",
            "Requirement already satisfied: python-dateutil>=2.7 in /usr/local/lib/python3.10/dist-packages (from matplotlib) (2.8.2)\n",
            "Requirement already satisfied: six>=1.5 in /usr/local/lib/python3.10/dist-packages (from python-dateutil>=2.7->matplotlib) (1.16.0)\n"
          ]
        }
      ],
      "source": [
        "pip install matplotlib"
      ]
    },
    {
      "cell_type": "code",
      "execution_count": 38,
      "metadata": {
        "colab": {
          "base_uri": "https://localhost:8080/"
        },
        "id": "EbZK9ecqpHCh",
        "outputId": "82e92525-c7c9-4136-c54c-6a447c8ca172"
      },
      "outputs": [
        {
          "output_type": "execute_result",
          "data": {
            "text/plain": [
              "TensorShape([60000, 28, 28, 1])"
            ]
          },
          "metadata": {},
          "execution_count": 38
        }
      ],
      "source": [
        "x_train.shape"
      ]
    },
    {
      "cell_type": "markdown",
      "metadata": {
        "id": "sZLkfVeVZvBV"
      },
      "source": [
        "**INSIGHTS**\n",
        "* _Expanding the dimensions with **tf.expand_dims** prepares the MNIST data for use with convolutional neural networks, a common layout for image classification tasks._"
      ]
    },
    {
      "cell_type": "markdown",
      "metadata": {
        "id": "K5h5BSaHZvBV"
      },
      "source": [
        "# *Visualizing Image*"
      ]
    },
    {
      "cell_type": "code",
      "execution_count": 39,
      "metadata": {
        "colab": {
          "base_uri": "https://localhost:8080/",
          "height": 181
        },
        "id": "pmHZR0xkqn1M",
        "outputId": "b035d2dc-619a-41c2-8392-2c69633525f7"
      },
      "outputs": [
        {
          "output_type": "display_data",
          "data": {
            "text/plain": [
              "<Figure size 2000x500 with 36 Axes>"
            ],
            "image/png": "[encoded data removed]"
          },
          "metadata": {}
        }
      ],
      "source": [
        "import numpy as np\n",
        "import matplotlib.pyplot as plt\n",
        "%matplotlib inline\n",
        "\n",
        "fig = plt.figure(figsize=(20,5))\n",
        "for i in range(36):\n",
        "    ax = fig.add_subplot(3, 12, i + 1, xticks=[], yticks=[])\n",
        "    ax.imshow(np.squeeze(x_train[i]))"
      ]
    },
    {
      "cell_type": "markdown",
      "metadata": {
        "id": "a2UC_UWxZvBW"
      },
      "source": [
        "#### **INSIGHTS**\n",
        "\n",
        "* _**figsize** defines the canvas for the visualization._\n",
        "* _**xticks=[], yticks=[]** remove the x and y axis ticks from the subplots for a cleaner visualization focusing on the images._\n",
        "* _**np.squeeze()** removes this unnecessary dimension if it exists, ensuring the image is displayed correctly._"
      ]
    },
    {
      "cell_type": "markdown",
      "metadata": {
        "id": "WUw5kdU4ZvBW"
      },
      "source": [
        "### *Rescale the Images by Dividing Every Pixel in Every Image by 255*"
      ]
    },
    {
      "cell_type": "code",
      "execution_count": 40,
      "metadata": {
        "id": "VjFe-AwvqsrE"
      },
      "outputs": [],
      "source": [
        "x_train =x_train.numpy()"
      ]
    },
    {
      "cell_type": "code",
      "execution_count": 41,
      "metadata": {
        "colab": {
          "base_uri": "https://localhost:8080/"
        },
        "id": "EoXCN_0rgM3m",
        "outputId": "2e9fbdc9-be89-457d-8dec-33621ab79a55"
      },
      "outputs": [
        {
          "output_type": "execute_result",
          "data": {
            "text/plain": [
              "numpy.ndarray"
            ]
          },
          "metadata": {},
          "execution_count": 41
        }
      ],
      "source": [
        "type(x_train)"
      ]
    },
    {
      "cell_type": "code",
      "execution_count": 42,
      "metadata": {
        "id": "adMXHY7qgQLD"
      },
      "outputs": [],
      "source": [
        "\n",
        "x_test =x_test.numpy()"
      ]
    },
    {
      "cell_type": "code",
      "execution_count": 43,
      "metadata": {
        "colab": {
          "base_uri": "https://localhost:8080/"
        },
        "id": "qWc5EYougb6P",
        "outputId": "a3905ab7-038c-432c-f767-6d372ec63840"
      },
      "outputs": [
        {
          "output_type": "execute_result",
          "data": {
            "text/plain": [
              "numpy.ndarray"
            ]
          },
          "metadata": {},
          "execution_count": 43
        }
      ],
      "source": [
        "type(x_train)"
      ]
    },
    {
      "cell_type": "code",
      "execution_count": 44,
      "metadata": {
        "id": "iTMfAvswyCWN"
      },
      "outputs": [],
      "source": [
        "#x_train = x_train.astype('float32')\n",
        "#x_test = x_test.astype('float32')"
      ]
    },
    {
      "cell_type": "code",
      "execution_count": 45,
      "metadata": {
        "id": "UtfF5dYPZvBW"
      },
      "outputs": [],
      "source": [
        "x_train, x_test = x_train / 255.0, x_test / 255.0"
      ]
    },
    {
      "cell_type": "markdown",
      "metadata": {
        "id": "0ZWREyFO8Ban"
      },
      "source": [
        "#### **INSIGHTS**\n",
        "* _The x_train and x_test tensor from TensorFlow format to a NumPy array._\n",
        "* _The x_train and x_test formatted **astype** into float32."
      ]
    },
    {
      "cell_type": "markdown",
      "metadata": {
        "id": "SjPFloxIZvBW"
      },
      "source": [
        "### *Break Dataset into Training, Testing, and Validation Sets*"
      ]
    },
    {
      "cell_type": "code",
      "execution_count": 46,
      "metadata": {
        "colab": {
          "base_uri": "https://localhost:8080/"
        },
        "id": "3rajdQ4iyX_W",
        "outputId": "2f5ee984-b917-4646-ed0e-834c0cf4c5ec"
      },
      "outputs": [
        {
          "output_type": "execute_result",
          "data": {
            "text/plain": [
              "array([5, 0, 4, ..., 5, 6, 8], dtype=uint8)"
            ]
          },
          "metadata": {},
          "execution_count": 46
        }
      ],
      "source": [
        "y_train"
      ]
    },
    {
      "cell_type": "code",
      "execution_count": 47,
      "metadata": {
        "colab": {
          "base_uri": "https://localhost:8080/"
        },
        "id": "MB8Cu2ZkUMzi",
        "outputId": "5af4bc4a-4bef-4b75-9877-d8ae84cb4265"
      },
      "outputs": [
        {
          "output_type": "stream",
          "name": "stdout",
          "text": [
            "Requirement already satisfied: keras in /usr/local/lib/python3.10/dist-packages (2.15.0)\n"
          ]
        }
      ],
      "source": [
        "pip install keras\n"
      ]
    },
    {
      "cell_type": "code",
      "execution_count": 48,
      "metadata": {
        "colab": {
          "base_uri": "https://localhost:8080/"
        },
        "id": "IeJTGzzpybN_",
        "outputId": "8accc793-5d70-4033-b1ec-69f8e5cac7ac"
      },
      "outputs": [
        {
          "output_type": "stream",
          "name": "stdout",
          "text": [
            "x_train shape: (55000, 28, 28, 1)\n",
            "55000 train samples\n",
            "10000 test samples\n",
            "5000 validation samples\n"
          ]
        }
      ],
      "source": [
        "from tensorflow.keras.utils import to_categorical\n",
        "\n",
        "\n",
        "num_classes = len(np.unique(y_train))\n",
        "y_train = keras.utils.to_categorical(y_train, num_classes)\n",
        "y_test = keras.utils.to_categorical(y_test, num_classes)\n",
        "\n",
        "(x_train, x_valid) = x_train[5000:], x_train[:5000]\n",
        "(y_train, y_valid) = y_train[5000:], y_train[:5000]\n",
        "\n",
        "\n",
        "print('x_train shape:', x_train.shape)\n",
        "\n",
        "\n",
        "print(x_train.shape[0], 'train samples')\n",
        "print(x_test.shape[0], 'test samples')\n",
        "print(x_valid.shape[0], 'validation samples')"
      ]
    },
    {
      "cell_type": "markdown",
      "metadata": {
        "id": "LMato0FWZvBX"
      },
      "source": [
        "#### **INSIGHTS**\n",
        "\n",
        "* _**keras.utils.to_categorical**applies One-hot encoding transforms categorical labels into a binary vector representation._\n",
        "* _**x_valid** validation set is used to monitor the model's generalization ability during training and avoid overfitting._\n",
        "* _**x_train & y_train[5000:]** containing 55,000 images (excluding the first 5,000)._\n",
        "* _**x_train & y_train[:5000]** selects elements from index 0 to 4999._"
      ]
    },
    {
      "cell_type": "markdown",
      "metadata": {
        "id": "83kDtRmwZvBX"
      },
      "source": [
        "### *Building the CNN Model*"
      ]
    },
    {
      "cell_type": "code",
      "execution_count": 49,
      "metadata": {
        "colab": {
          "base_uri": "https://localhost:8080/"
        },
        "id": "yR5lReXCQdd0",
        "outputId": "81fc5089-b7cc-4b37-8168-0139a05eb22f"
      },
      "outputs": [
        {
          "output_type": "stream",
          "name": "stdout",
          "text": [
            "Model: \"sequential_1\"\n",
            "_________________________________________________________________\n",
            " Layer (type)                Output Shape              Param #   \n",
            "=================================================================\n",
            " conv2d_3 (Conv2D)           (None, 28, 28, 8)         80        \n",
            "                                                                 \n",
            " max_pooling2d_3 (MaxPoolin  (None, 14, 14, 8)         0         \n",
            " g2D)                                                            \n",
            "                                                                 \n",
            " conv2d_4 (Conv2D)           (None, 14, 14, 16)        1168      \n",
            "                                                                 \n",
            " max_pooling2d_4 (MaxPoolin  (None, 7, 7, 16)          0         \n",
            " g2D)                                                            \n",
            "                                                                 \n",
            " conv2d_5 (Conv2D)           (None, 7, 7, 32)          4640      \n",
            "                                                                 \n",
            " max_pooling2d_5 (MaxPoolin  (None, 3, 3, 32)          0         \n",
            " g2D)                                                            \n",
            "                                                                 \n",
            " dropout_4 (Dropout)         (None, 3, 3, 32)          0         \n",
            "                                                                 \n",
            " flatten_1 (Flatten)         (None, 288)               0         \n",
            "                                                                 \n",
            " dense_4 (Dense)             (None, 500)               144500    \n",
            "                                                                 \n",
            " dropout_5 (Dropout)         (None, 500)               0         \n",
            "                                                                 \n",
            " dense_5 (Dense)             (None, 200)               100200    \n",
            "                                                                 \n",
            " dropout_6 (Dropout)         (None, 200)               0         \n",
            "                                                                 \n",
            " dense_6 (Dense)             (None, 100)               20100     \n",
            "                                                                 \n",
            " dropout_7 (Dropout)         (None, 100)               0         \n",
            "                                                                 \n",
            " dense_7 (Dense)             (None, 10)                1010      \n",
            "                                                                 \n",
            "=================================================================\n",
            "Total params: 271698 (1.04 MB)\n",
            "Trainable params: 271698 (1.04 MB)\n",
            "Non-trainable params: 0 (0.00 Byte)\n",
            "_________________________________________________________________\n"
          ]
        }
      ],
      "source": [
        "from keras.models import Sequential\n",
        "from keras.layers import Conv2D, MaxPooling2D, Flatten, Dense, Dropout\n",
        "\n",
        "model = Sequential()\n",
        "model.add(Conv2D(filters=8, kernel_size=3, padding='same', activation='relu',input_shape=(28,28,1)))\n",
        "model.add(MaxPooling2D(pool_size=2))\n",
        "model.add(Conv2D(filters=16, kernel_size=3, padding='same', activation='relu'))\n",
        "model.add(MaxPooling2D(pool_size=2))\n",
        "model.add(Conv2D(filters=32, kernel_size=3, padding='same', activation='relu'))\n",
        "model.add(MaxPooling2D(pool_size=2))\n",
        "model.add(Dropout(0.3))\n",
        "model.add(Flatten())\n",
        "model.add(Dense(500, activation='relu'))\n",
        "model.add(Dropout(0.3))\n",
        "model.add(Dense(200, activation='relu'))\n",
        "model.add(Dropout(0.3))\n",
        "model.add(Dense(100, activation='relu'))\n",
        "model.add(Dropout(0.3))\n",
        "model.add(Dense(10, activation='softmax'))\n",
        "\n",
        "model.summary()"
      ]
    },
    {
      "cell_type": "markdown",
      "metadata": {
        "id": "9l2AQ_xHZvBX"
      },
      "source": [
        "**INSIGHTS**\n",
        "\n",
        "* _We imported the necessary **layers** from **keras** for building the **CNN** model and **models.Sequential()** creates a sequential model object._\n",
        "\n",
        "*  _**model.add(Conv2D(filters,kernel_size,activation))** use convolutional layers to extract features and **pooling layers** are used to reduce dimensionality, and **dense layers** for classification._\n",
        "\n",
        "*  _**model.add(Flatten())** flattens the multi-dimensional output of the convolutional layers into a single feature vector_.\n",
        "\n",
        "*  _**model.add(Dropout(rate=0.3))** introduces a **Dropout layer** with a rate of **0.3** This randomly drops **30% of the neurons** during training to prevent overfitting._\n",
        "\n",
        "* _The final Desnse layer uses **softmax** activation to predict probabilities for multiple classes._\n"
      ]
    },
    {
      "cell_type": "markdown",
      "metadata": {
        "id": "jd3U6aV2ZvBX"
      },
      "source": [
        "### *Compile the Model*"
      ]
    },
    {
      "cell_type": "code",
      "execution_count": 50,
      "metadata": {
        "id": "bWt_uwCRg1Ue"
      },
      "outputs": [],
      "source": [
        "model.compile(loss='categorical_crossentropy', optimizer='rmsprop', metrics=['accuracy'])"
      ]
    },
    {
      "cell_type": "markdown",
      "metadata": {
        "id": "V0jcbwelZvBX"
      },
      "source": [
        "**INSIGHTS**\n",
        "\n",
        "* _the loss function like  **categorical_crossentropy** penalizes the model for making incorrect predictions and guides the optimization process towards minimizing the overall prediction error._\n",
        "* _adaptive learning rate optimization which is **rmsprop**  builds upon the concepts of **gradient descent** improve upon the performance by addressing issues like vanishing gradients.  ."
      ]
    },
    {
      "cell_type": "markdown",
      "metadata": {
        "id": "o-8bCmM6ZvBX"
      },
      "source": [
        "###  *Train the Model*"
      ]
    },
    {
      "cell_type": "code",
      "execution_count": 51,
      "metadata": {
        "colab": {
          "base_uri": "https://localhost:8080/"
        },
        "id": "JVRz6R3ChKfN",
        "outputId": "b39f115c-1121-420b-88da-464c9eb20fcc"
      },
      "outputs": [
        {
          "output_type": "stream",
          "name": "stdout",
          "text": [
            "Epoch 1/3\n",
            "1718/1719 [============================>.] - ETA: 0s - loss: 0.3405 - accuracy: 0.8935\n",
            "Epoch 1: val_loss improved from inf to 0.08009, saving model to model.weights.best.keras\n",
            "1719/1719 [==============================] - 11s 6ms/step - loss: 0.3405 - accuracy: 0.8935 - val_loss: 0.0801 - val_accuracy: 0.9762\n",
            "Epoch 2/3\n",
            "1714/1719 [============================>.] - ETA: 0s - loss: 0.1395 - accuracy: 0.9633\n",
            "Epoch 2: val_loss did not improve from 0.08009\n",
            "1719/1719 [==============================] - 10s 6ms/step - loss: 0.1399 - accuracy: 0.9633 - val_loss: 0.0820 - val_accuracy: 0.9790\n",
            "Epoch 3/3\n",
            "1718/1719 [============================>.] - ETA: 0s - loss: 0.1276 - accuracy: 0.9680\n",
            "Epoch 3: val_loss improved from 0.08009 to 0.06449, saving model to model.weights.best.keras\n",
            "1719/1719 [==============================] - 10s 6ms/step - loss: 0.1276 - accuracy: 0.9680 - val_loss: 0.0645 - val_accuracy: 0.9846\n"
          ]
        }
      ],
      "source": [
        "from keras.callbacks import ModelCheckpoint\n",
        "\n",
        "# train the model\n",
        "checkpointer = ModelCheckpoint(filepath='model.weights.best.keras', verbose=1, save_best_only=True)\n",
        "\n",
        "hist = model.fit(x_train, y_train, batch_size=32, epochs=3,\n",
        "          validation_data=(x_valid, y_valid), callbacks=[checkpointer],\n",
        "          verbose=1, shuffle=True)"
      ]
    },
    {
      "cell_type": "markdown",
      "metadata": {
        "id": "mFIJ7xPtZvBg"
      },
      "source": [
        "**INSIGHTS**\n",
        "\n",
        "* _the file path where the best model weights will be saved **model.weights.best.hdf5** by the extension for storing model weights in HDF5 format._\n",
        "* _ModelCheckpoint will Resume Training,Compare Models,Early Stopping by the use of checkpoint._"
      ]
    },
    {
      "cell_type": "code",
      "execution_count": 52,
      "metadata": {
        "colab": {
          "base_uri": "https://localhost:8080/"
        },
        "id": "s9Sdmu7UZvBg",
        "outputId": "62986c13-117f-4051-cd9a-3eed8d57b8e2"
      },
      "outputs": [
        {
          "output_type": "execute_result",
          "data": {
            "text/plain": [
              "<keras.src.engine.sequential.Sequential at 0x7c4837db97b0>"
            ]
          },
          "metadata": {},
          "execution_count": 52
        }
      ],
      "source": [
        "keras.models.load_model('model.weights.best.keras')"
      ]
    },
    {
      "cell_type": "markdown",
      "metadata": {
        "id": "ODtbLbS5ZvBh"
      },
      "source": [
        "###  *Load the Model with  Validation Accuracy*"
      ]
    },
    {
      "cell_type": "code",
      "execution_count": 53,
      "metadata": {
        "id": "chv9PxbAZvBh"
      },
      "outputs": [],
      "source": [
        "model.load_weights('model.weights.best.keras')"
      ]
    },
    {
      "cell_type": "markdown",
      "metadata": {
        "id": "_4AvYcs4ZvBh"
      },
      "source": [
        "**INSIGHTS**\n",
        "* _Keras model object allows you to load the trained weights (parameters) from a specific file by **model.load_weights**._"
      ]
    },
    {
      "cell_type": "markdown",
      "metadata": {
        "id": "5X4TYcJTZvBh"
      },
      "source": [
        "###  *Visualize Some Predictions*"
      ]
    },
    {
      "cell_type": "code",
      "execution_count": 29,
      "metadata": {
        "colab": {
          "base_uri": "https://localhost:8080/"
        },
        "id": "eRGOb4vsh4dU",
        "outputId": "3fcf89ec-7b4a-45fa-fafb-eb3e22cf0c24"
      },
      "outputs": [
        {
          "output_type": "stream",
          "name": "stdout",
          "text": [
            "313/313 [==============================] - 1s 2ms/step\n"
          ]
        }
      ],
      "source": [
        "y_pred =model.predict(x_test)"
      ]
    },
    {
      "cell_type": "code",
      "execution_count": 56,
      "metadata": {
        "colab": {
          "base_uri": "https://localhost:8080/"
        },
        "id": "7eQtGnDsZvBh",
        "outputId": "fcb33f91-5c32-42f9-b818-53a5fc6a282a"
      },
      "outputs": [
        {
          "output_type": "stream",
          "name": "stdout",
          "text": [
            "Test loss on 10000 test sample  0.06403690576553345\n",
            "Test accuracy: 98.3300%\n"
          ]
        }
      ],
      "source": [
        "score = model.evaluate(x_test, y_test, verbose=0)\n",
        "test_loss, accuracy = score\n",
        "accuracy = 100*score[1]\n",
        "print(\"Test loss on 10000 test sample \", test_loss)\n",
        "print('Test accuracy: %.4f%%' % accuracy)"
      ]
    },
    {
      "cell_type": "code",
      "execution_count": 57,
      "metadata": {
        "colab": {
          "base_uri": "https://localhost:8080/"
        },
        "id": "5tx5L07el5E1",
        "outputId": "2822449a-f486-4344-dce2-79e2bac07f30"
      },
      "outputs": [
        {
          "output_type": "execute_result",
          "data": {
            "text/plain": [
              "7"
            ]
          },
          "metadata": {},
          "execution_count": 57
        }
      ],
      "source": [
        "np.argmax(y_pred[0])"
      ]
    },
    {
      "cell_type": "code",
      "execution_count": 68,
      "metadata": {
        "colab": {
          "base_uri": "https://localhost:8080/"
        },
        "id": "IKfzuXryl8P3",
        "outputId": "f93ca321-9b6d-4896-b8fb-ef2e2b0734c9"
      },
      "outputs": [
        {
          "output_type": "execute_result",
          "data": {
            "text/plain": [
              "array([0., 0., 0., 0., 0., 0., 0., 1., 0., 0.], dtype=float32)"
            ]
          },
          "metadata": {},
          "execution_count": 68
        }
      ],
      "source": [
        "y_test[0]"
      ]
    },
    {
      "cell_type": "markdown",
      "source": [
        "**INSIGHTS**\n",
        "* _ This code snippet helps you evaluate the performance of your model on unseen test data._\n",
        "* _The test loss and accuracy provide quantitative measures of how well the model generalizes to new data.one is  lower test loss indicates better model performance and another one is higher test accuracy (closer to 100%) suggests the model makes fewer errors on unseen data._\n",
        "* _The index of the maximum value in the first element ([0]) of the y_pred array by*np.argmax(y_pred[0])*.the result of this  7, indicates that the model predicted the class with index 7 to be the most probable class for the first input sample in x_test._"
      ],
      "metadata": {
        "id": "NX21GQ5Znc9t"
      }
    },
    {
      "cell_type": "markdown",
      "source": [
        "## *K-Nearest Neighbors (KNN) and Artificial Neural Networks (ANNs)*"
      ],
      "metadata": {
        "id": "Rj5xxd0umlQI"
      }
    },
    {
      "cell_type": "code",
      "source": [
        "from sklearn.neighbors import KNeighborsClassifier\n",
        "from sklearn.neural_network import MLPClassifier\n",
        "from sklearn.metrics import accuracy_score"
      ],
      "metadata": {
        "id": "Umw2cjUETd1v"
      },
      "execution_count": 59,
      "outputs": []
    },
    {
      "cell_type": "code",
      "execution_count": 61,
      "metadata": {
        "id": "QdeEKWL7mOOZ",
        "colab": {
          "base_uri": "https://localhost:8080/",
          "height": 74
        },
        "outputId": "d6c5136a-5b9e-493f-ace2-65e143db16fa"
      },
      "outputs": [
        {
          "output_type": "execute_result",
          "data": {
            "text/plain": [
              "KNeighborsClassifier(n_neighbors=1)"
            ],
            "text/html": [
              "<style>#sk-container-id-2 {color: black;background-color: white;}#sk-container-id-2 pre{padding: 0;}#sk-container-id-2 div.sk-toggleable {background-color: white;}#sk-container-id-2 label.sk-toggleable__label {cursor: pointer;display: block;width: 100%;margin-bottom: 0;padding: 0.3em;box-sizing: border-box;text-align: center;}#sk-container-id-2 label.sk-toggleable__label-arrow:before {content: \"▸\";float: left;margin-right: 0.25em;color: #696969;}#sk-container-id-2 label.sk-toggleable__label-arrow:hover:before {color: black;}#sk-container-id-2 div.sk-estimator:hover label.sk-toggleable__label-arrow:before {color: black;}#sk-container-id-2 div.sk-toggleable__content {max-height: 0;max-width: 0;overflow: hidden;text-align: left;background-color: #f0f8ff;}#sk-container-id-2 div.sk-toggleable__content pre {margin: 0.2em;color: black;border-radius: 0.25em;background-color: #f0f8ff;}#sk-container-id-2 input.sk-toggleable__control:checked~div.sk-toggleable__content {max-height: 200px;max-width: 100%;overflow: auto;}#sk-container-id-2 input.sk-toggleable__control:checked~label.sk-toggleable__label-arrow:before {content: \"▾\";}#sk-container-id-2 div.sk-estimator input.sk-toggleable__control:checked~label.sk-toggleable__label {background-color: #d4ebff;}#sk-container-id-2 div.sk-label input.sk-toggleable__control:checked~label.sk-toggleable__label {background-color: #d4ebff;}#sk-container-id-2 input.sk-hidden--visually {border: 0;clip: rect(1px 1px 1px 1px);clip: rect(1px, 1px, 1px, 1px);height: 1px;margin: -1px;overflow: hidden;padding: 0;position: absolute;width: 1px;}#sk-container-id-2 div.sk-estimator {font-family: monospace;background-color: #f0f8ff;border: 1px dotted black;border-radius: 0.25em;box-sizing: border-box;margin-bottom: 0.5em;}#sk-container-id-2 div.sk-estimator:hover {background-color: #d4ebff;}#sk-container-id-2 div.sk-parallel-item::after {content: \"\";width: 100%;border-bottom: 1px solid gray;flex-grow: 1;}#sk-container-id-2 div.sk-label:hover label.sk-toggleable__label {background-color: #d4ebff;}#sk-container-id-2 div.sk-serial::before {content: \"\";position: absolute;border-left: 1px solid gray;box-sizing: border-box;top: 0;bottom: 0;left: 50%;z-index: 0;}#sk-container-id-2 div.sk-serial {display: flex;flex-direction: column;align-items: center;background-color: white;padding-right: 0.2em;padding-left: 0.2em;position: relative;}#sk-container-id-2 div.sk-item {position: relative;z-index: 1;}#sk-container-id-2 div.sk-parallel {display: flex;align-items: stretch;justify-content: center;background-color: white;position: relative;}#sk-container-id-2 div.sk-item::before, #sk-container-id-2 div.sk-parallel-item::before {content: \"\";position: absolute;border-left: 1px solid gray;box-sizing: border-box;top: 0;bottom: 0;left: 50%;z-index: -1;}#sk-container-id-2 div.sk-parallel-item {display: flex;flex-direction: column;z-index: 1;position: relative;background-color: white;}#sk-container-id-2 div.sk-parallel-item:first-child::after {align-self: flex-end;width: 50%;}#sk-container-id-2 div.sk-parallel-item:last-child::after {align-self: flex-start;width: 50%;}#sk-container-id-2 div.sk-parallel-item:only-child::after {width: 0;}#sk-container-id-2 div.sk-dashed-wrapped {border: 1px dashed gray;margin: 0 0.4em 0.5em 0.4em;box-sizing: border-box;padding-bottom: 0.4em;background-color: white;}#sk-container-id-2 div.sk-label label {font-family: monospace;font-weight: bold;display: inline-block;line-height: 1.2em;}#sk-container-id-2 div.sk-label-container {text-align: center;}#sk-container-id-2 div.sk-container {/* jupyter's `normalize.less` sets `[hidden] { display: none; }` but bootstrap.min.css set `[hidden] { display: none !important; }` so we also need the `!important` here to be able to override the default hidden behavior on the sphinx rendered scikit-learn.org. See: https://github.com/scikit-learn/scikit-learn/issues/21755 */display: inline-block !important;position: relative;}#sk-container-id-2 div.sk-text-repr-fallback {display: none;}</style><div id=\"sk-container-id-2\" class=\"sk-top-container\"><div class=\"sk-text-repr-fallback\"><pre>KNeighborsClassifier(n_neighbors=1)</pre><b>In a Jupyter environment, please rerun this cell to show the HTML representation or trust the notebook. <br />On GitHub, the HTML representation is unable to render, please try loading this page with nbviewer.org.</b></div><div class=\"sk-container\" hidden><div class=\"sk-item\"><div class=\"sk-estimator sk-toggleable\"><input class=\"sk-toggleable__control sk-hidden--visually\" id=\"sk-estimator-id-2\" type=\"checkbox\" checked><label for=\"sk-estimator-id-2\" class=\"sk-toggleable__label sk-toggleable__label-arrow\">KNeighborsClassifier</label><div class=\"sk-toggleable__content\"><pre>KNeighborsClassifier(n_neighbors=1)</pre></div></div></div></div></div>"
            ]
          },
          "metadata": {},
          "execution_count": 61
        }
      ],
      "source": [
        "knn_model = KNeighborsClassifier(n_neighbors=1)\n",
        "x_train_flat = x_train.reshape((x_train.shape[0], -1))\n",
        "x_val_flat = x_valid.reshape((x_valid.shape[0], -1))\n",
        "knn_model.fit(x_train_flat, y_train)"
      ]
    },
    {
      "cell_type": "code",
      "execution_count": 62,
      "metadata": {
        "colab": {
          "base_uri": "https://localhost:8080/",
          "height": 74
        },
        "id": "jdNneZZEZvBi",
        "outputId": "c315badd-0134-4636-c10c-4a3ee577e7da"
      },
      "outputs": [
        {
          "output_type": "execute_result",
          "data": {
            "text/plain": [
              "MLPClassifier(hidden_layer_sizes=(128,), max_iter=5, random_state=42)"
            ],
            "text/html": [
              "<style>#sk-container-id-3 {color: black;background-color: white;}#sk-container-id-3 pre{padding: 0;}#sk-container-id-3 div.sk-toggleable {background-color: white;}#sk-container-id-3 label.sk-toggleable__label {cursor: pointer;display: block;width: 100%;margin-bottom: 0;padding: 0.3em;box-sizing: border-box;text-align: center;}#sk-container-id-3 label.sk-toggleable__label-arrow:before {content: \"▸\";float: left;margin-right: 0.25em;color: #696969;}#sk-container-id-3 label.sk-toggleable__label-arrow:hover:before {color: black;}#sk-container-id-3 div.sk-estimator:hover label.sk-toggleable__label-arrow:before {color: black;}#sk-container-id-3 div.sk-toggleable__content {max-height: 0;max-width: 0;overflow: hidden;text-align: left;background-color: #f0f8ff;}#sk-container-id-3 div.sk-toggleable__content pre {margin: 0.2em;color: black;border-radius: 0.25em;background-color: #f0f8ff;}#sk-container-id-3 input.sk-toggleable__control:checked~div.sk-toggleable__content {max-height: 200px;max-width: 100%;overflow: auto;}#sk-container-id-3 input.sk-toggleable__control:checked~label.sk-toggleable__label-arrow:before {content: \"▾\";}#sk-container-id-3 div.sk-estimator input.sk-toggleable__control:checked~label.sk-toggleable__label {background-color: #d4ebff;}#sk-container-id-3 div.sk-label input.sk-toggleable__control:checked~label.sk-toggleable__label {background-color: #d4ebff;}#sk-container-id-3 input.sk-hidden--visually {border: 0;clip: rect(1px 1px 1px 1px);clip: rect(1px, 1px, 1px, 1px);height: 1px;margin: -1px;overflow: hidden;padding: 0;position: absolute;width: 1px;}#sk-container-id-3 div.sk-estimator {font-family: monospace;background-color: #f0f8ff;border: 1px dotted black;border-radius: 0.25em;box-sizing: border-box;margin-bottom: 0.5em;}#sk-container-id-3 div.sk-estimator:hover {background-color: #d4ebff;}#sk-container-id-3 div.sk-parallel-item::after {content: \"\";width: 100%;border-bottom: 1px solid gray;flex-grow: 1;}#sk-container-id-3 div.sk-label:hover label.sk-toggleable__label {background-color: #d4ebff;}#sk-container-id-3 div.sk-serial::before {content: \"\";position: absolute;border-left: 1px solid gray;box-sizing: border-box;top: 0;bottom: 0;left: 50%;z-index: 0;}#sk-container-id-3 div.sk-serial {display: flex;flex-direction: column;align-items: center;background-color: white;padding-right: 0.2em;padding-left: 0.2em;position: relative;}#sk-container-id-3 div.sk-item {position: relative;z-index: 1;}#sk-container-id-3 div.sk-parallel {display: flex;align-items: stretch;justify-content: center;background-color: white;position: relative;}#sk-container-id-3 div.sk-item::before, #sk-container-id-3 div.sk-parallel-item::before {content: \"\";position: absolute;border-left: 1px solid gray;box-sizing: border-box;top: 0;bottom: 0;left: 50%;z-index: -1;}#sk-container-id-3 div.sk-parallel-item {display: flex;flex-direction: column;z-index: 1;position: relative;background-color: white;}#sk-container-id-3 div.sk-parallel-item:first-child::after {align-self: flex-end;width: 50%;}#sk-container-id-3 div.sk-parallel-item:last-child::after {align-self: flex-start;width: 50%;}#sk-container-id-3 div.sk-parallel-item:only-child::after {width: 0;}#sk-container-id-3 div.sk-dashed-wrapped {border: 1px dashed gray;margin: 0 0.4em 0.5em 0.4em;box-sizing: border-box;padding-bottom: 0.4em;background-color: white;}#sk-container-id-3 div.sk-label label {font-family: monospace;font-weight: bold;display: inline-block;line-height: 1.2em;}#sk-container-id-3 div.sk-label-container {text-align: center;}#sk-container-id-3 div.sk-container {/* jupyter's `normalize.less` sets `[hidden] { display: none; }` but bootstrap.min.css set `[hidden] { display: none !important; }` so we also need the `!important` here to be able to override the default hidden behavior on the sphinx rendered scikit-learn.org. See: https://github.com/scikit-learn/scikit-learn/issues/21755 */display: inline-block !important;position: relative;}#sk-container-id-3 div.sk-text-repr-fallback {display: none;}</style><div id=\"sk-container-id-3\" class=\"sk-top-container\"><div class=\"sk-text-repr-fallback\"><pre>MLPClassifier(hidden_layer_sizes=(128,), max_iter=5, random_state=42)</pre><b>In a Jupyter environment, please rerun this cell to show the HTML representation or trust the notebook. <br />On GitHub, the HTML representation is unable to render, please try loading this page with nbviewer.org.</b></div><div class=\"sk-container\" hidden><div class=\"sk-item\"><div class=\"sk-estimator sk-toggleable\"><input class=\"sk-toggleable__control sk-hidden--visually\" id=\"sk-estimator-id-3\" type=\"checkbox\" checked><label for=\"sk-estimator-id-3\" class=\"sk-toggleable__label sk-toggleable__label-arrow\">MLPClassifier</label><div class=\"sk-toggleable__content\"><pre>MLPClassifier(hidden_layer_sizes=(128,), max_iter=5, random_state=42)</pre></div></div></div></div></div>"
            ]
          },
          "metadata": {},
          "execution_count": 62
        }
      ],
      "source": [
        "mlp_model = MLPClassifier(hidden_layer_sizes=(128,), max_iter=5, random_state=42)\n",
        "mlp_model.fit(x_train_flat, y_train)"
      ]
    },
    {
      "cell_type": "code",
      "execution_count": 63,
      "metadata": {
        "id": "m8Zd6QjXZvBi"
      },
      "outputs": [],
      "source": [
        "cnn_accuracy = model.evaluate(x_test, y_test, verbose=0)[1]\n",
        "\n",
        "mlp_predictions = mlp_model.predict(x_val_flat)\n",
        "mlp_accuracy = accuracy_score(y_valid, mlp_predictions)"
      ]
    },
    {
      "cell_type": "code",
      "execution_count": 64,
      "metadata": {
        "colab": {
          "base_uri": "https://localhost:8080/"
        },
        "id": "qhd865YNZvBi",
        "outputId": "c8e5ac8f-c223-481e-8b6c-16462ced653c"
      },
      "outputs": [
        {
          "output_type": "stream",
          "name": "stdout",
          "text": [
            "(5000, 784)\n"
          ]
        }
      ],
      "source": [
        "print(x_val_flat.shape)\n"
      ]
    },
    {
      "cell_type": "code",
      "execution_count": 65,
      "metadata": {
        "colab": {
          "base_uri": "https://localhost:8080/"
        },
        "id": "djWdTEYJZvBi",
        "outputId": "c68c85cd-7d3f-434b-c828-a58872cc51dd"
      },
      "outputs": [
        {
          "output_type": "stream",
          "name": "stdout",
          "text": [
            "CNN Accuracy: 0.983299970626831\n",
            "MLP Accuracy: 0.93\n"
          ]
        }
      ],
      "source": [
        "print(f\"CNN Accuracy: {cnn_accuracy}\")\n",
        "\n",
        "print(f\"MLP Accuracy: {mlp_accuracy}\")"
      ]
    },
    {
      "cell_type": "code",
      "execution_count": 66,
      "metadata": {
        "colab": {
          "base_uri": "https://localhost:8080/"
        },
        "id": "xVFIj_o2ZvBi",
        "outputId": "8fa7942b-e865-4ee0-880b-0aa47f0ae8c3"
      },
      "outputs": [
        {
          "output_type": "stream",
          "name": "stdout",
          "text": [
            "k-NN Accuracy: 0.9762\n"
          ]
        }
      ],
      "source": [
        "knn_predictions = knn_model.predict(x_val_flat)\n",
        "knn_accuracy = accuracy_score(y_valid, knn_predictions)\n",
        "print(f\"k-NN Accuracy: {knn_accuracy}\")"
      ]
    },
    {
      "cell_type": "markdown",
      "source": [
        "**INSIGHTS**\n",
        "* _Using **n_neighbors=1** in the KNN model might lead to overfitting, especially with small datasets. The model might become too specific to the training data and perform poorly on unseen data. Consider trying different values of n_neighbors to find a balance between accuracy and generalization._\n",
        "* _Setting **max_iter=5** might not be enough for the MLP to learn effectively. if might need to increase the number of iterations or use techniques like early stopping to prevent overfitting.\n",
        "* _The printed accuracy is for the KNN model on the validation data. It reflects how well the KNN model performs on unseen data from the same distribution as the training data. However, it's not necessarily indicative of the performance on the actual test._"
      ],
      "metadata": {
        "id": "e5w8i8ytrK2P"
      }
    },
    {
      "cell_type": "markdown",
      "source": [
        "# *Model Comparison*\n"
      ],
      "metadata": {
        "id": "K-GOFeS0Tujp"
      }
    },
    {
      "cell_type": "code",
      "execution_count": 67,
      "metadata": {
        "id": "hd-BxucmZvBi",
        "colab": {
          "base_uri": "https://localhost:8080/"
        },
        "outputId": "98113763-a026-4d83-e9f9-7ceca9985016"
      },
      "outputs": [
        {
          "output_type": "stream",
          "name": "stdout",
          "text": [
            "╒═════════╤═══════════╕\n",
            "│ Model   │   Testing │\n",
            "╞═════════╪═══════════╡\n",
            "│ CNN     │      0.98 │\n",
            "├─────────┼───────────┤\n",
            "│ KNN     │      0.97 │\n",
            "├─────────┼───────────┤\n",
            "│ ANN     │      0.93 │\n",
            "╘═════════╧═══════════╛\n"
          ]
        }
      ],
      "source": [
        "from tabulate import tabulate\n",
        "\n",
        "metrics = {\n",
        "    'CNN': { 'Testing accuracy': 0.98},\n",
        "    'KNN': { 'Testing accuracy':0.97 }, 'ANN': { 'Testing accuracy': 0.93}\n",
        "            }\n",
        "\n",
        "table_data = []\n",
        "headers = ['Model',  'Testing']\n",
        "\n",
        "for model, report in metrics.items():\n",
        "    testing_accuracy = report['Testing accuracy']\n",
        "    table_data.append([model,  testing_accuracy])\n",
        "\n",
        "print(tabulate(table_data, headers=headers, tablefmt='fancy_grid'))"
      ]
    },
    {
      "cell_type": "markdown",
      "source": [
        "**INSIGHTS**\n",
        "*   _A **model comparison report** helps us to see whether which model **performs the best**_.\n",
        "\n",
        "*   _By analyzing the various factors and how each model weighs, we gain a deeper understanding of **decision-making** processes, ultimately allowing us to make more **strategic choices**._\n",
        "\n",
        "*   _Based on our model comparison, **MODEL - CNN** an   architecture appears to be the **most promising model**_.\n",
        "\n",
        "*   _Our model achieved Training accuracy as **96.18%** and both validation and testing accuracy as **98%**_"
      ],
      "metadata": {
        "id": "O_zXuGptaflp"
      }
    },
    {
      "cell_type": "markdown",
      "source": [
        "# *Conclusion*\n",
        "* _This project successfully tackled the challenge of handwritten digit recognition using the MNIST dataset, a cornerstone in computer vision research. We compared the performance of three distinct classification algorithms: Convolutional Neural Networks (CNNs), K-Nearest Neighbors (KNN), and Artificial Neural Networks (ANNs)._\n",
        "\n",
        "* _The results showcase the power of deep learning for this task. The CNN achieved a stellar testing accuracy of 98%, surpassing both KNN (97%) and ANN (93%). This underlines the exceptional ability of CNNs to automatically extract meaningful features and learn intricate patterns from image data, making them a natural fit for image recognition problems._\n",
        "\n",
        "* _Our CNN model achieved an impressive validation accuracy of 98.36% on the test set, demonstrating its high performance in classifying 10,000 samples. Furthermore, the test loss, which measures the model's prediction error on these samples, was found to be only 0.0604. These results indicate the effectiveness and accuracy of our convolutional neural network in accurately classifying the test data._"
      ],
      "metadata": {
        "id": "FPcCbHf4dtq4"
      }
    }
  ],
  "metadata": {
    "accelerator": "GPU",
    "colab": {
      "gpuType": "T4",
      "provenance": []
    },
    "kernelspec": {
      "display_name": "Python 3 (ipykernel)",
      "language": "python",
      "name": "python3"
    },
    "language_info": {
      "codemirror_mode": {
        "name": "ipython",
        "version": 3
      },
      "file_extension": ".py",
      "mimetype": "text/x-python",
      "name": "python",
      "nbconvert_exporter": "python",
      "pygments_lexer": "ipython3",
      "version": "3.11.4"
    }
  },
  "nbformat": 4,
  "nbformat_minor": 0
}